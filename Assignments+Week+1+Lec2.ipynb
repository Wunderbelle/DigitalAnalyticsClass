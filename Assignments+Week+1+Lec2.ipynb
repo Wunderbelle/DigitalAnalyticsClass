{
 "cells": [
  {
   "cell_type": "markdown",
   "metadata": {},
   "source": [
    "\n",
    "# A. Notebook Tutorial One\n",
    "ASSIGNMENT\n",
    "* HOW CAN I put a link into a markdown cell\n",
    "* how can I add a picture\n",
    "* How can I add a table\n",
    "\n",
    "# B. Python Basics Two\n",
    "Assignment\n",
    "1. Removing items from a list and a dictionary\n",
    "We saw how to add items to a list (using append) and to a dictionary (by assigning a new item). How can we remove items from a list or a dictionary though? Create a list and a dictionary below, and remove one item from each of them.\n",
    "2. Playing with strings\n",
    "How can you convert the variable below to lower case?\n",
    "allupper = 'THIS TEXT IS COMPLETELY IN UPPER CASE!'\n",
    "How can we convert this string into a list of words?\n",
    "sentence = '''This is a sentence with words separated by a lot of spaces.\n",
    "How can we split it into a list of words?'''\n",
    "3. Organizing data\n",
    "This is the most important challenge of this tutorial, as we will use the concepts here to think how to organize our (digital) data. The paragraph below contains a lot of information. How would you organize this data in a way that you can visualize and work with it later? Consider using lists, dictionaries, tuples... or whatever makes sense to you!\n",
    "Please explain why you decided to do what you did.\n",
    "John Smith is 32 years old, is an analyst at Salesforce UK, and is father to a young boy. He is divorced. Mary Smith is 21 years old, currently studies at the University of Amsterdam, and was born in the US. Tom Brokaw is a US journalist, born in 1940, married with three children.\n",
    "\n",
    "# C.Python Basics Three\n",
    "Assignment\n",
    "Challenge 1\n",
    "Create a function that tests if an element of a list is a number or a string. If it is a number, it should return its value divided by two. If it is a string, it should return the length of the string.\n",
    "Challenge 2\n",
    "The table below contains a dataset containing customer IDs, ages, the name of the website they visited, and whether they clicked on the ad. You need to do three things:\n",
    "Move this table to a data structure (list, dictionary, list of lists... or whatever you prefer)\n",
    "Create a function that categorizes the website type (define a categorization that you find meaningful)\n",
    "Create a function that categorizes the customers according to age groups (define which age groups you want to use)\n",
    "CID\tAge\tWebsite\tClick\n",
    "1\t19\tNBC\t1\n",
    "2\t25\tNew York Times\t0\n",
    "3\t41\tFacebook\t0\n",
    "4\t37\tTwitter\t1\n",
    "5\t64\tBuzzfeed\t1\n",
    "6\t50\tCBS\t0\n",
    "7\t18\tThe Guardian\t0\n",
    "8\t55\tGoogle News\t1\n",
    "\n",
    "https://github.com/uva-cw-digitalanalytics/1617S2/blob/master/1_Week1/t4_PythonBasics3.ipynb -> there is the table\n"
   ]
  },
  {
   "cell_type": "code",
   "execution_count": null,
   "metadata": {
    "collapsed": true
   },
   "outputs": [],
   "source": []
  },
  {
   "cell_type": "code",
   "execution_count": null,
   "metadata": {
    "collapsed": true
   },
   "outputs": [],
   "source": []
  },
  {
   "cell_type": "markdown",
   "metadata": {},
   "source": [
    "# SOLUTIONS FOR A\n",
    "\n",
    "* Create simple links by wrapping square brackets around the link text and round brackets around the URL:"
   ]
  },
  {
   "cell_type": "markdown",
   "metadata": {},
   "source": [
    "this [link](http://nestacms.com/docs/creating-content/markdown-cheat-sheet) will explain you how to insert a link"
   ]
  },
  {
   "cell_type": "markdown",
   "metadata": {},
   "source": [
    "* this is how you insert a picture:\n",
    "\n",
    "\n",
    "Pic1:\n",
    "\n",
    "![alt text](https://github.com/adam-p/markdown-here/raw/master/src/common/images/icon48.png \"Logo Title Text 1\")\n",
    "\n",
    "Pic2:\n",
    "\n",
    "![alt text](http://support.mediacore.com/customer/portal/attachments/97839)\n",
    "\n",
    "![alt text](/Users/isabelle/Pictures/Background)"
   ]
  },
  {
   "cell_type": "markdown",
   "metadata": {},
   "source": [
    "* Finally, this is how you add a table: \n",
    "\n",
    "Colons can be used to align columns.\n",
    "\n",
    "| Tables        | Are           | Cool  |\n",
    "| ------------- |:-------------:| -----:|\n",
    "| col 3 is      | right-aligned | $1600 |\n",
    "| col 2 is      | centered      |   $12 |\n",
    "| zebra stripes | are neat      |    $1 |\n",
    "\n",
    "There must be at least 3 dashes separating each header cell.\n",
    "The outer pipes (|) are optional, and you don't need to make the \n",
    "raw Markdown line up prettily. You can also use inline Markdown.\n",
    "\n",
    "Markdown | Less | Pretty\n",
    "--- | --- | ---\n",
    "*Still* | `renders` | **nicely**\n",
    "1 | 2 | 3\n",
    "\n",
    "Click [here](https://github.com/adam-p/markdown-here/wiki/Markdown-Cheatsheet#images) for the source"
   ]
  },
  {
   "cell_type": "code",
   "execution_count": null,
   "metadata": {
    "collapsed": true
   },
   "outputs": [],
   "source": []
  },
  {
   "cell_type": "code",
   "execution_count": null,
   "metadata": {
    "collapsed": true
   },
   "outputs": [],
   "source": []
  },
  {
   "cell_type": "markdown",
   "metadata": {},
   "source": [
    "# SOLUTIONS for B"
   ]
  },
  {
   "cell_type": "markdown",
   "metadata": {},
   "source": [
    "### 1. Removing items from list and dictionnaries...\n",
    "\n",
    "First I have to create a list and a dictionnary\n"
   ]
  },
  {
   "cell_type": "code",
   "execution_count": 7,
   "metadata": {
    "collapsed": true
   },
   "outputs": [],
   "source": [
    "mylist= [345, 'love', 'hate', 'anger', 'pizza']"
   ]
  },
  {
   "cell_type": "code",
   "execution_count": 8,
   "metadata": {
    "collapsed": true
   },
   "outputs": [],
   "source": [
    "mydictionnary = {\n",
    "    '345' : 'number', 'love': 'emotion', 'hate': 'emotion', 'anger': 'emotion', 'pizza': 'food'\n",
    "}"
   ]
  },
  {
   "cell_type": "code",
   "execution_count": 9,
   "metadata": {
    "collapsed": false
   },
   "outputs": [
    {
     "name": "stdout",
     "output_type": "stream",
     "text": [
      "[345, 'love', 'hate', 'anger', 'pizza']\n"
     ]
    }
   ],
   "source": [
    "print(mylist)"
   ]
  },
  {
   "cell_type": "code",
   "execution_count": 10,
   "metadata": {
    "collapsed": false
   },
   "outputs": [
    {
     "name": "stdout",
     "output_type": "stream",
     "text": [
      "{'345': 'number', 'love': 'emotion', 'hate': 'emotion', 'anger': 'emotion', 'pizza': 'food'}\n"
     ]
    }
   ],
   "source": [
    "print(mydictionnary)"
   ]
  },
  {
   "cell_type": "markdown",
   "metadata": {},
   "source": [
    "NOW, I can **remove** items from my list and dictionnary \n",
    "\n",
    "List: use the .remove function [source](https://www.tutorialspoint.com/python/list_remove.htm)"
   ]
  },
  {
   "cell_type": "code",
   "execution_count": 11,
   "metadata": {
    "collapsed": true
   },
   "outputs": [],
   "source": [
    "mylist.remove('pizza')"
   ]
  },
  {
   "cell_type": "code",
   "execution_count": 12,
   "metadata": {
    "collapsed": false
   },
   "outputs": [
    {
     "name": "stdout",
     "output_type": "stream",
     "text": [
      "[345, 'love', 'hate', 'anger']\n"
     ]
    }
   ],
   "source": [
    "print(mylist)"
   ]
  },
  {
   "cell_type": "markdown",
   "metadata": {},
   "source": [
    "I can remove items from a dictionnary using the .pop function: "
   ]
  },
  {
   "cell_type": "code",
   "execution_count": 13,
   "metadata": {
    "collapsed": false
   },
   "outputs": [
    {
     "data": {
      "text/plain": [
       "'food'"
      ]
     },
     "execution_count": 13,
     "metadata": {},
     "output_type": "execute_result"
    }
   ],
   "source": [
    "mydictionnary.pop('pizza')"
   ]
  },
  {
   "cell_type": "code",
   "execution_count": 14,
   "metadata": {
    "collapsed": false
   },
   "outputs": [
    {
     "name": "stdout",
     "output_type": "stream",
     "text": [
      "{'345': 'number', 'love': 'emotion', 'hate': 'emotion', 'anger': 'emotion'}\n"
     ]
    }
   ],
   "source": [
    "print(mydictionnary)"
   ]
  },
  {
   "cell_type": "code",
   "execution_count": null,
   "metadata": {
    "collapsed": true
   },
   "outputs": [],
   "source": []
  },
  {
   "cell_type": "markdown",
   "metadata": {},
   "source": [
    "### 3. Playing with strings \n",
    "\n",
    "* How can you convert the variable below to lower case? allupper = 'THIS TEXT IS COMPLETELY IN UPPER CASE!' \n",
    "* How can we convert this string into a list of words? sentence = '''This is a sentence with words separated by a lot of spaces. How can we split it into a list of words?"
   ]
  },
  {
   "cell_type": "markdown",
   "metadata": {},
   "source": [
    "First of all, I create two strings for the two exercises"
   ]
  },
  {
   "cell_type": "code",
   "execution_count": 15,
   "metadata": {
    "collapsed": true
   },
   "outputs": [],
   "source": [
    "a='THIS TEXT IS COMPLETELY IN UPPER CASE!'"
   ]
  },
  {
   "cell_type": "code",
   "execution_count": 16,
   "metadata": {
    "collapsed": true
   },
   "outputs": [],
   "source": [
    "b='This is a sentence with words separated by a lot of spaces. How can we split it into a list of words?'"
   ]
  },
  {
   "cell_type": "code",
   "execution_count": 17,
   "metadata": {
    "collapsed": false
   },
   "outputs": [
    {
     "data": {
      "text/plain": [
       "'this text is completely in upper case!'"
      ]
     },
     "execution_count": 17,
     "metadata": {},
     "output_type": "execute_result"
    }
   ],
   "source": [
    "str.lower(a)"
   ]
  },
  {
   "cell_type": "code",
   "execution_count": 18,
   "metadata": {
    "collapsed": false
   },
   "outputs": [
    {
     "data": {
      "text/plain": [
       "'THIS TEXT IS COMPLETELY IN UPPER CASE!'"
      ]
     },
     "execution_count": 18,
     "metadata": {},
     "output_type": "execute_result"
    }
   ],
   "source": [
    "a"
   ]
  },
  {
   "cell_type": "code",
   "execution_count": 22,
   "metadata": {
    "collapsed": false
   },
   "outputs": [],
   "source": [
    "a= str.lower(a)"
   ]
  },
  {
   "cell_type": "code",
   "execution_count": 23,
   "metadata": {
    "collapsed": false
   },
   "outputs": [
    {
     "data": {
      "text/plain": [
       "'this text is completely in upper case!'"
      ]
     },
     "execution_count": 23,
     "metadata": {},
     "output_type": "execute_result"
    }
   ],
   "source": [
    "a"
   ]
  },
  {
   "cell_type": "code",
   "execution_count": 26,
   "metadata": {
    "collapsed": false
   },
   "outputs": [
    {
     "data": {
      "text/plain": [
       "['This',\n",
       " 'is',\n",
       " 'a',\n",
       " 'sentence',\n",
       " 'with',\n",
       " 'words',\n",
       " 'separated',\n",
       " 'by',\n",
       " 'a',\n",
       " 'lot',\n",
       " 'of',\n",
       " 'spaces.',\n",
       " 'How',\n",
       " 'can',\n",
       " 'we',\n",
       " 'split',\n",
       " 'it',\n",
       " 'into',\n",
       " 'a',\n",
       " 'list',\n",
       " 'of',\n",
       " 'words?']"
      ]
     },
     "execution_count": 26,
     "metadata": {},
     "output_type": "execute_result"
    }
   ],
   "source": [
    "str.split(b)"
   ]
  },
  {
   "cell_type": "code",
   "execution_count": 27,
   "metadata": {
    "collapsed": false
   },
   "outputs": [
    {
     "data": {
      "text/plain": [
       "'This is a sentence with words separated by a lot of spaces. How can we split it into a list of words?'"
      ]
     },
     "execution_count": 27,
     "metadata": {},
     "output_type": "execute_result"
    }
   ],
   "source": [
    "b"
   ]
  },
  {
   "cell_type": "code",
   "execution_count": 28,
   "metadata": {
    "collapsed": true
   },
   "outputs": [],
   "source": [
    "b= str.split(b)"
   ]
  },
  {
   "cell_type": "code",
   "execution_count": 29,
   "metadata": {
    "collapsed": false
   },
   "outputs": [
    {
     "data": {
      "text/plain": [
       "['This',\n",
       " 'is',\n",
       " 'a',\n",
       " 'sentence',\n",
       " 'with',\n",
       " 'words',\n",
       " 'separated',\n",
       " 'by',\n",
       " 'a',\n",
       " 'lot',\n",
       " 'of',\n",
       " 'spaces.',\n",
       " 'How',\n",
       " 'can',\n",
       " 'we',\n",
       " 'split',\n",
       " 'it',\n",
       " 'into',\n",
       " 'a',\n",
       " 'list',\n",
       " 'of',\n",
       " 'words?']"
      ]
     },
     "execution_count": 29,
     "metadata": {},
     "output_type": "execute_result"
    }
   ],
   "source": [
    "b"
   ]
  },
  {
   "cell_type": "code",
   "execution_count": null,
   "metadata": {
    "collapsed": true
   },
   "outputs": [],
   "source": []
  },
  {
   "cell_type": "markdown",
   "metadata": {},
   "source": [
    "### 3. Organizing data"
   ]
  },
  {
   "cell_type": "markdown",
   "metadata": {},
   "source": [
    "* How would you organize this data in a way that you can visualize and work with it later? \n",
    "\n",
    "*Consider using lists, dictionaries, tuples... \n",
    "\n",
    "Please explain why you decided to do what you did. \n",
    "\n",
    "John Smith is 32 years old, is an analyst at Salesforce UK, and is father to a young boy. He is divorced. \n",
    "Mary Smith is 21 years old, currently studies at the University of Amsterdam, and was born in the US. \n",
    "Tom Brokaw is a US journalist, born in 1940, married with three children.\n",
    "\n",
    "-> I think I would make lists for the categories name, age, location of birth, profession, number of children, marriage status\n",
    "-> this would allow me to put the data in the table and to display the different categories in graphs if I have more information on more people\n",
    "\n"
   ]
  },
  {
   "cell_type": "code",
   "execution_count": 30,
   "metadata": {
    "collapsed": true
   },
   "outputs": [],
   "source": [
    "age_list = [32, 21, 77]"
   ]
  },
  {
   "cell_type": "code",
   "execution_count": 31,
   "metadata": {
    "collapsed": true
   },
   "outputs": [],
   "source": [
    "firstname_list = ['John', 'Mary', 'Tom']"
   ]
  },
  {
   "cell_type": "code",
   "execution_count": 32,
   "metadata": {
    "collapsed": true
   },
   "outputs": [],
   "source": [
    "lastname_list = ['Smith', 'Smith', 'Brokaw']"
   ]
  },
  {
   "cell_type": "code",
   "execution_count": 35,
   "metadata": {
    "collapsed": false
   },
   "outputs": [
    {
     "ename": "NameError",
     "evalue": "name 'table' is not defined",
     "output_type": "error",
     "traceback": [
      "\u001b[0;31m---------------------------------------------------------------------------\u001b[0m",
      "\u001b[0;31mNameError\u001b[0m                                 Traceback (most recent call last)",
      "\u001b[0;32m<ipython-input-35-d83f85461069>\u001b[0m in \u001b[0;36m<module>\u001b[0;34m()\u001b[0m\n\u001b[0;32m----> 1\u001b[0;31m \u001b[0mt\u001b[0m \u001b[0;34m=\u001b[0m \u001b[0mtable\u001b[0m\u001b[0;34m(\u001b[0m\u001b[0;34m[\u001b[0m\u001b[0mage_list\u001b[0m\u001b[0;34m,\u001b[0m \u001b[0mfirstname_list\u001b[0m\u001b[0;34m,\u001b[0m \u001b[0mlastname_list\u001b[0m\u001b[0;34m]\u001b[0m\u001b[0;34m,\u001b[0m\u001b[0mnames\u001b[0m\u001b[0;34m=\u001b[0m\u001b[0;34m(\u001b[0m\u001b[0;34m'age'\u001b[0m\u001b[0;34m,\u001b[0m \u001b[0;34m'first name'\u001b[0m\u001b[0;34m,\u001b[0m \u001b[0;34m'last name'\u001b[0m\u001b[0;34m)\u001b[0m\u001b[0;34m)\u001b[0m\u001b[0;34m\u001b[0m\u001b[0m\n\u001b[0m",
      "\u001b[0;31mNameError\u001b[0m: name 'table' is not defined"
     ]
    }
   ],
   "source": [
    "t = table([age_list, firstname_list, lastname_list],names=('age', 'first name', 'last name'))"
   ]
  },
  {
   "cell_type": "markdown",
   "metadata": {},
   "source": [
    "Here are the kind of packages you can use to create tables... however, we have not learned how to install packages in pyhton yet http://stackoverflow.com/questions/9535954/printing-lists-as-tabular-data"
   ]
  },
  {
   "cell_type": "markdown",
   "metadata": {},
   "source": [
    "I changed my mind and I am going to create strings or lists according to the people...\n"
   ]
  },
  {
   "cell_type": "code",
   "execution_count": 43,
   "metadata": {
    "collapsed": false
   },
   "outputs": [],
   "source": [
    "a = ['John Smith', 32, 'UK', 'analyst', 'divorced', 1]\n",
    "b = ['Mary Smith', 21, 'Netherlands', 'student', 'unmarried', 0]\n",
    "c = ['Tom Brokaw', 77, 'US', 'journalist', 'married', '3']\n"
   ]
  },
  {
   "cell_type": "markdown",
   "metadata": {},
   "source": [
    "Now, you could use these lists for a table in which the columns are named: name, age, country of residence, marriage status, number of children\n",
    "\n",
    "However, I think the data has to be adapted to the purpose you want to use it for. You could also create dictionaries for each person if you are not interested in larger displays but the information obtained about one person..."
   ]
  },
  {
   "cell_type": "code",
   "execution_count": null,
   "metadata": {
    "collapsed": true
   },
   "outputs": [],
   "source": []
  },
  {
   "cell_type": "code",
   "execution_count": null,
   "metadata": {
    "collapsed": true
   },
   "outputs": [],
   "source": []
  },
  {
   "cell_type": "markdown",
   "metadata": {},
   "source": [
    "# SOLUTION for C\n",
    "\n",
    "* Create a function that tests if an element of a list is a number or a string. \n",
    "\n",
    "*If it is a number, it should return its value divided by two. If it is a string, it should return the length of the string. \n",
    "\n",
    "* The table below contains a dataset containing customer IDs, ages, the name of the website they visited, and whether they clicked on the ad. You need to do three things: \n",
    "1. Move this table to a data structure (list, dictionary, list of lists... or whatever you prefer) \n",
    "2. Create a function that categorizes the website type (define a categorization that you find meaningful) \n",
    "3. Create a function that categorizes the customers according to age groups (define which age groups you want to use) \n",
    "\n",
    "\n",
    "https://github.com/uva-cw-digitalanalytics/1617S2/blob/master/1_Week1/t4_PythonBasics3.ipynb -> there is the table"
   ]
  },
  {
   "cell_type": "markdown",
   "metadata": {},
   "source": [
    "#### Create a function\n",
    "\n",
    "There already is a function type()\n",
    "it returns float, int or str\n",
    "\n",
    "* first, i need to create a list with numbers and strings\n",
    "* then i need to include this function into another function\n"
   ]
  },
  {
   "cell_type": "code",
   "execution_count": 44,
   "metadata": {
    "collapsed": true
   },
   "outputs": [],
   "source": [
    "x = [345, 'love', 'hate', 'anger', 'pizza']"
   ]
  },
  {
   "cell_type": "code",
   "execution_count": 46,
   "metadata": {
    "collapsed": false
   },
   "outputs": [
    {
     "data": {
      "text/plain": [
       "'love'"
      ]
     },
     "execution_count": 46,
     "metadata": {},
     "output_type": "execute_result"
    }
   ],
   "source": [
    "x[1]"
   ]
  },
  {
   "cell_type": "code",
   "execution_count": 47,
   "metadata": {
    "collapsed": false
   },
   "outputs": [
    {
     "data": {
      "text/plain": [
       "str"
      ]
     },
     "execution_count": 47,
     "metadata": {},
     "output_type": "execute_result"
    }
   ],
   "source": [
    "type(x[1])"
   ]
  },
  {
   "cell_type": "code",
   "execution_count": 51,
   "metadata": {
    "collapsed": false
   },
   "outputs": [
    {
     "data": {
      "text/plain": [
       "int"
      ]
     },
     "execution_count": 51,
     "metadata": {},
     "output_type": "execute_result"
    }
   ],
   "source": [
    "type(x[0])"
   ]
  },
  {
   "cell_type": "code",
   "execution_count": 77,
   "metadata": {
    "collapsed": false
   },
   "outputs": [],
   "source": [
    "def challenge_x(item):\n",
    "\n",
    "    if type(item) == int:\n",
    "        return item/2\n",
    "  \n",
    "    elif type(item) == str:\n",
    "        return len(x)"
   ]
  },
  {
   "cell_type": "code",
   "execution_count": 53,
   "metadata": {
    "collapsed": true
   },
   "outputs": [],
   "source": []
  },
  {
   "cell_type": "code",
   "execution_count": 78,
   "metadata": {
    "collapsed": false
   },
   "outputs": [
    {
     "data": {
      "text/plain": [
       "5"
      ]
     },
     "execution_count": 78,
     "metadata": {},
     "output_type": "execute_result"
    }
   ],
   "source": [
    "challenge_x(x[1])"
   ]
  },
  {
   "cell_type": "code",
   "execution_count": 79,
   "metadata": {
    "collapsed": false
   },
   "outputs": [
    {
     "data": {
      "text/plain": [
       "172.5"
      ]
     },
     "execution_count": 79,
     "metadata": {},
     "output_type": "execute_result"
    }
   ],
   "source": [
    "challenge_x(x[0])"
   ]
  },
  {
   "cell_type": "markdown",
   "metadata": {},
   "source": [
    "#### Challenge 2\n",
    "\n",
    "CID\tAge\tWebsite\tClick\n",
    "1\t19\tNBC\t1\n",
    "2\t25\tNew York Times\t0\n",
    "3\t41\tFacebook\t0\n",
    "4\t37\tTwitter\t1\n",
    "5\t64\tBuzzfeed\t1\n",
    "6\t50\tCBS\t0\n",
    "7\t18\tThe Guardian\t0\n",
    "8\t55\tGoogle News\t1\n"
   ]
  },
  {
   "cell_type": "code",
   "execution_count": 80,
   "metadata": {
    "collapsed": false
   },
   "outputs": [
    {
     "ename": "SyntaxError",
     "evalue": "invalid syntax (<ipython-input-80-374c9d47715a>, line 1)",
     "output_type": "error",
     "traceback": [
      "\u001b[0;36m  File \u001b[0;32m\"<ipython-input-80-374c9d47715a>\"\u001b[0;36m, line \u001b[0;32m1\u001b[0m\n\u001b[0;31m    CID\tAge\tWebsite\tClick\u001b[0m\n\u001b[0m       \t  ^\u001b[0m\n\u001b[0;31mSyntaxError\u001b[0m\u001b[0;31m:\u001b[0m invalid syntax\n"
     ]
    }
   ],
   "source": [
    "CID\tAge\tWebsite\tClick\n",
    "1\t19\tNBC\t1\n",
    "2\t25\tNew York Times\t0\n",
    "3\t41\tFacebook\t0\n",
    "4\t37\tTwitter\t1\n",
    "5\t64\tBuzzfeed\t1\n",
    "6\t50\tCBS\t0\n",
    "7\t18\tThe Guardian\t0\n",
    "8\t55\tGoogle News\t1\n",
    "\n"
   ]
  },
  {
   "cell_type": "markdown",
   "metadata": {},
   "source": [
    "* Create a function that categorizes the website type (define a categorization that you find meaningful) \n",
    "* Create a function that categorizes the customers according to age groups (define which age groups you want to use)\n"
   ]
  },
  {
   "cell_type": "code",
   "execution_count": 81,
   "metadata": {
    "collapsed": true
   },
   "outputs": [],
   "source": [
    "list_age = [19, 25, 41, 37, 64, 50, 18, 55]"
   ]
  },
  {
   "cell_type": "code",
   "execution_count": 82,
   "metadata": {
    "collapsed": true
   },
   "outputs": [],
   "source": [
    "list_websites = ['NBC', 'New York Times', 'Facebook', 'Twitter', 'Buzzfeed', 'CBS', 'The Guardian', 'Google News']"
   ]
  },
  {
   "cell_type": "code",
   "execution_count": 95,
   "metadata": {
    "collapsed": false
   },
   "outputs": [],
   "source": [
    "def cat_age(item):\n",
    "    dic_age = {\n",
    "        18 : 'Group1', 19: 'Group1', 20: 'Group1', 21: 'Group2', 25: 'Group2', 37: 'Group3', 41: 'Group4', 50: 'Group4', 55: 'Group4', 64: 'Group5' \n",
    "    }\n",
    "    return dic_age"
   ]
  },
  {
   "cell_type": "code",
   "execution_count": 96,
   "metadata": {
    "collapsed": false
   },
   "outputs": [
    {
     "data": {
      "text/plain": [
       "{18: 'Group1',\n",
       " 19: 'Group1',\n",
       " 20: 'Group1',\n",
       " 21: 'Group2',\n",
       " 25: 'Group2',\n",
       " 37: 'Group3',\n",
       " 41: 'Group4',\n",
       " 50: 'Group4',\n",
       " 55: 'Group4',\n",
       " 64: 'Group5'}"
      ]
     },
     "execution_count": 96,
     "metadata": {},
     "output_type": "execute_result"
    }
   ],
   "source": [
    "cat_age(list_age[1])"
   ]
  },
  {
   "cell_type": "code",
   "execution_count": 88,
   "metadata": {
    "collapsed": false
   },
   "outputs": [
    {
     "data": {
      "text/plain": [
       "'Group1'"
      ]
     },
     "execution_count": 88,
     "metadata": {},
     "output_type": "execute_result"
    }
   ],
   "source": [
    "dic_age[18]"
   ]
  },
  {
   "cell_type": "code",
   "execution_count": 85,
   "metadata": {
    "collapsed": false
   },
   "outputs": [
    {
     "data": {
      "text/plain": [
       "25"
      ]
     },
     "execution_count": 85,
     "metadata": {},
     "output_type": "execute_result"
    }
   ],
   "source": [
    "list_age[1]"
   ]
  },
  {
   "cell_type": "code",
   "execution_count": 116,
   "metadata": {
    "collapsed": true
   },
   "outputs": [],
   "source": [
    "def cat_age(item):\n",
    "    dic_age = {\n",
    "        18 : 'Group1', 19: 'Group1', 20: 'Group1', 21: 'Group2', 25: 'Group2', 37: 'Group3', 41: 'Group4', 50: 'Group4', 55: 'Group4', 64: 'Group5' \n",
    "    }\n",
    "    return dic_age[item]"
   ]
  },
  {
   "cell_type": "code",
   "execution_count": 117,
   "metadata": {
    "collapsed": false
   },
   "outputs": [
    {
     "data": {
      "text/plain": [
       "'Group4'"
      ]
     },
     "execution_count": 117,
     "metadata": {},
     "output_type": "execute_result"
    }
   ],
   "source": [
    "cat_age(list_age[5])"
   ]
  },
  {
   "cell_type": "code",
   "execution_count": null,
   "metadata": {
    "collapsed": true
   },
   "outputs": [],
   "source": []
  },
  {
   "cell_type": "code",
   "execution_count": null,
   "metadata": {
    "collapsed": true
   },
   "outputs": [],
   "source": []
  },
  {
   "cell_type": "code",
   "execution_count": null,
   "metadata": {
    "collapsed": true
   },
   "outputs": [],
   "source": []
  },
  {
   "cell_type": "code",
   "execution_count": 102,
   "metadata": {
    "collapsed": true
   },
   "outputs": [],
   "source": [
    "web_dic = {\n",
    "    'NBC': 'news', 'New York Times': 'news', 'Buzzfeed': 'news', 'CBS': 'news', 'The Guardian': 'news', 'Google News': 'news', 'Facebook': 'socialmedia', 'Twitter': 'socialmedia'\n",
    "}"
   ]
  },
  {
   "cell_type": "code",
   "execution_count": 98,
   "metadata": {
    "collapsed": true
   },
   "outputs": [],
   "source": []
  },
  {
   "cell_type": "code",
   "execution_count": 114,
   "metadata": {
    "collapsed": false
   },
   "outputs": [],
   "source": [
    "def cat_website(item):\n",
    "    web_dic = {\n",
    "    'NBC': 'news', 'New York Times': 'news', 'Buzzfeed': 'news', 'CBS': 'news', 'The Guardian': 'news', 'Google News': 'news', 'Facebook': 'socialmedia', 'Twitter': 'socialmedia'\n",
    "}\n",
    "    return web_dic[item]"
   ]
  },
  {
   "cell_type": "code",
   "execution_count": 106,
   "metadata": {
    "collapsed": false
   },
   "outputs": [
    {
     "data": {
      "text/plain": [
       "'news'"
      ]
     },
     "execution_count": 106,
     "metadata": {},
     "output_type": "execute_result"
    }
   ],
   "source": [
    "web_dic['NBC']"
   ]
  },
  {
   "cell_type": "code",
   "execution_count": 115,
   "metadata": {
    "collapsed": false
   },
   "outputs": [
    {
     "data": {
      "text/plain": [
       "'socialmedia'"
      ]
     },
     "execution_count": 115,
     "metadata": {},
     "output_type": "execute_result"
    }
   ],
   "source": [
    "cat_website(list_websites[3])"
   ]
  },
  {
   "cell_type": "code",
   "execution_count": null,
   "metadata": {
    "collapsed": true
   },
   "outputs": [],
   "source": []
  }
 ],
 "metadata": {
  "kernelspec": {
   "display_name": "Python 3",
   "language": "python",
   "name": "python3"
  },
  "language_info": {
   "codemirror_mode": {
    "name": "ipython",
    "version": 3
   },
   "file_extension": ".py",
   "mimetype": "text/x-python",
   "name": "python",
   "nbconvert_exporter": "python",
   "pygments_lexer": "ipython3",
   "version": "3.6.0"
  }
 },
 "nbformat": 4,
 "nbformat_minor": 2
}
